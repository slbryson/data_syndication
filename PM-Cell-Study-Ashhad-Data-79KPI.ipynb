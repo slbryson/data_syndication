{
 "metadata": {
  "name": "",
  "signature": "sha256:a31bc504dc63a8a75f01ff158d17a07aff1950bb498f1ecca506956da21ca5a0"
 },
 "nbformat": 3,
 "nbformat_minor": 0,
 "worksheets": [
  {
   "cells": [
    {
     "cell_type": "code",
     "collapsed": false,
     "input": [
      "########################\n",
      "def get_time_range(saved_columns):\n",
      "    dates =[]\n",
      "    hour = []\n",
      "    ctr2=0\n",
      "    ctr = 0\n",
      "    ctr_ix =0\n",
      "    # Create hours and dates\n",
      "    for col in saved_columns:\n",
      "        if not col.startswith('Unnamed'):\n",
      "            ctr2 =ctr2+1\n",
      "            #print col.split(), col.split()[1:]\n",
      "            dates.append(col.split()[:1]) \n",
      "            hour.append(col.split()[1:])\n",
      "    return dates, hour\n",
      "#########################"
     ],
     "language": "python",
     "metadata": {},
     "outputs": [],
     "prompt_number": 1
    },
    {
     "cell_type": "code",
     "collapsed": false,
     "input": [
      "def stack_dataframe(df2,num_kpi):\n",
      "    #This code will grab 11 columns and reshape them into rows and add them on to the end of an array\n",
      "    \n",
      "    #Delcare some variables\n",
      "\n",
      "    ctr =0\n",
      "    ctr_ix =0\n",
      "    kray = []\n",
      "    temp_array = []\n",
      "    saved_columns =[]\n",
      "    ######################################\n",
      "    #Rename the first column to cell id\n",
      "    df = df2[1:]\n",
      "\n",
      "    saved_columns =df2.columns\n",
      "    slength = len(df[saved_columns[0]])\n",
      " \n",
      "    df.rename(columns={'Unnamed: 0':'cellid'}, inplace=True)\n",
      "    #Set the length of the number of cells\n",
      " \n",
      "    print 'Number of cells ', slength\n",
      "    clist = gen_cell_list(df)\n",
      "    ######################################\n",
      "    set_date = np.chararray((slength,1))\n",
      "    set_hour = np.chararray((slength,1))\n",
      "    set_date = np.chararray(set_date.shape,itemsize=slength)\n",
      "    set_hour = np.chararray(set_date.shape,itemsize=slength)\n",
      "    final_array =np.ndarray(shape =(slength,num_kpi+3))\n",
      "\n",
      "    # Get the date and hour\n",
      "    saved_dates = df2.columns\n",
      "    #call function to computer hour and date range\n",
      "    dates, hour = get_time_range(saved_dates)\n",
      "    #Skip the first row for the data file\n",
      "    print 'length of dates ', len(dates), len(hour)\n",
      "    #Most of these files have up to 1168 columns.  You can't just transponse the matrix because the hours and dates\n",
      "    #have to be inserted.\n",
      "\n",
      "    for count in range(1,len(df.columns)):\n",
      "        if ctr ==0 and count <num_kpi:\n",
      "            nray = df.values[:,(count):(count)+num_kpi]\n",
      "            set_date[:] = dates[ctr_ix]\n",
      "            set_hour[:] = hour[ctr_ix]\n",
      "            final_array = np.hstack((clist,set_date,set_hour,nray))\n",
      "            #final_array = np.vstack([final_array,temp_array])\n",
      "            #print 'ctr_ix', ctr_ix, 'count ', count, final_array.shape, final_array[0]\n",
      "        if ctr >= num_kpi and count < (len(df.columns)-num_kpi):\n",
      "\n",
      "            #print 'Should hit ', count, ctr_ix, dates[ctr_ix], hour[ctr_ix]\n",
      "            ctr_ix = ctr_ix + 1\n",
      "            set_date[:] = dates[ctr_ix]\n",
      "            set_hour[:] = hour[ctr_ix]\n",
      "\n",
      "            if ctr_ix > 1:\n",
      "                nray = df.values[:,(count):(count)+num_kpi]\n",
      "                #nray = np.vstack([nray,df.values[:,(count+1):(count)+12]])\n",
      "                # build temporary array with new columns\n",
      "                temp_array = np.hstack((clist,set_date,set_hour,nray))\n",
      "                final_array = np.vstack([final_array,temp_array])\n",
      "                # Add the new temp to the bottom of the final array\n",
      "\n",
      "                #print df.ix[5,(count):(count)+num_kpi]\n",
      "            ctr =0\n",
      "        ctr = ctr + 1\n",
      "\n",
      "    if True:\n",
      "        print temp_array.shape, final_array.shape\n",
      "    if False:\n",
      "        print 'Example of Final array ', final_array[0], '\\n Example of final array ', final_array[2]\n",
      "    return final_array"
     ],
     "language": "python",
     "metadata": {},
     "outputs": [],
     "prompt_number": 2
    },
    {
     "cell_type": "code",
     "collapsed": false,
     "input": [
      "def gen_cell_list(df):\n",
      "    # Generate cell list from first column\n",
      "    cellist = []\n",
      "    slength = len(df['cellid'])\n",
      "    cellist = np.array([df.values[:,0]])\n",
      "    clist = cellist.T\n",
      "    print len(cellist), type(cellist), cellist.shape, clist.shape, clist[4]\n",
      "    return clist"
     ],
     "language": "python",
     "metadata": {},
     "outputs": [],
     "prompt_number": 3
    },
    {
     "cell_type": "code",
     "collapsed": false,
     "input": [
      "def fix_write_csv(final_array,num_kpi):\n",
      "    # Create a data frame from array\n",
      "    # inputs will be a N X M data array with M = to the number of KPIs + HR +Date + Cell Id.\n",
      "    # N will be the number of events\n",
      "    # slength is the length of the number of cells\n",
      "    # clist is a K X 1 vector with the cell names which can also be used as an index\n",
      "\n",
      "\n",
      "    df_out = DataFrame(final_array)\n",
      "    # Reset the columns.  This will work for an arbitrary number of KPI, but the KPI range + cell must be modified\n",
      "    if False:\n",
      "\n",
      "        for row in range(1, num_kpi+1):\n",
      "            df_out.rename(columns={row+2:df.columns[row]}, inplace=True)\n",
      "        # We stuck in the hour and date so need to do those manually. Could probably combine with above\n",
      "        df_out.rename(columns={0:'cellid',1:'Date',2:'Hour'}, inplace=True)\n",
      "\n",
      "        #create index from cell list\n",
      "        indexed_df = df_out.set_index('cellid',[clist])\n",
      "\n",
      "\n",
      "    # Change hours into numbers\n",
      "    df2 = df_out.replace(['0:00','1:00','2:00','3:00','4:00','5:00','6:00','7:00', '8:00','9:00', \\\n",
      "                          '10:00','11:00','12:00','13:00','14:00','15:00','16:00','17:00','18:00', \\\n",
      "                          '19:00', '20:00','21:00','22:00', '23:00'], \\\n",
      "                         [0,1,2,3,4,5,6,7,8,9,10,11,12, 13, 14, 15, 16, 17,18, 19, 20,21, 22, 23])\n",
      "    # Fix Nerr entries\n",
      "    df2 = df2.replace(['Nerr'],[np.NaN])\n",
      "    # fix other artifacts\n",
      "    df2 = df2.replace(['&nbsp;'],[np.NaN])\n",
      "    # set the datatype of columns\n",
      "    #df2[[3,4,5,6,7,8,9,10,11,12, 13]]= df2[[3,4,5,6,7,8,9,10,11,12,13]].astype(float)\n",
      "    df2[[0]] = df2[[0]].astype(str)\n",
      "    df2[[1]] = df2[[1]].astype(datetime)\n",
      "    # since we didn't change everything to float, then need to pick out some important ones\n",
      "    df2[[3,4,5,6,7,8,9,10,11,12, 13, 58, 68, 81]]= df2[[3,4,5,6,7,8,9,10,11,12,13,58, 68, 81]].astype(float)\n",
      "\n",
      "    if True:\n",
      "        df2.to_csv('output/master_kpi.out')\n",
      "    return df2"
     ],
     "language": "python",
     "metadata": {},
     "outputs": [],
     "prompt_number": 12
    },
    {
     "cell_type": "code",
     "collapsed": false,
     "input": [
      "# Use Pandas to read in data\n",
      "import pandas as pd\n",
      "import os\n",
      "import datetime\n",
      "import numpy as np\n",
      "from operator import itemgetter, attrgetter\n",
      "from StringIO import StringIO\n",
      "from pandas import *\n",
      "import matplotlib.pyplot as plt\n",
      "\n",
      "#note the given director is specific to the system where the data files are located.\n",
      "in_dir = r\"/vagrant/data_syndication/\"\n",
      "filename =r'./NY11103-11079-18.csv' \n",
      "filename = r'./NYC-1-7-to-1-15.csv'\n",
      "#filename =r'./Manhattan 1102-1109 0-23 NPO KPI.csv'\n",
      "\n",
      "num_kpi =79\n",
      "final_array =temp_array = np.ndarray(shape =(0,num_kpi+3))\n",
      "#Cycle through all the files\n",
      "# We've added too many files so just do one at a time\n",
      "if False:\n",
      "    for path, subdirs, files in os.walk(\".\"):\n",
      "        for name in files:\n",
      "            if name.endswith(\".csv\"):\n",
      "                f = os.path.join(path,name)\n",
      "                # Careful @ this point the path is specific to the directory which will change\n",
      "                # depending on what system the data files are located.\n",
      "                head,filedate = os.path.split(path)\n",
      "                if True:\n",
      "                    #print \"Lenght of columns in file\",len(saved_column), \"rows = \", df.shape\n",
      "                    print  head, '\\t', f ,'\\n'\n",
      "                #Read the first row to get the date and hour range which are initially combined\n",
      "                # Pandas Call\n",
      "                df2= pd.read_csv(f,skipinitialspace=True, dtype=unicode)\n",
      "                # In line module\n",
      "                temp_array = stack_dataframe(df2,num_kpi)\n",
      "                final_array = np.vstack((temp_array,final_array))\n",
      "                # alternatively we could use dfnew = df_out.append(df_old)\n",
      "\n",
      "# we set filename to the file we want to use and use the pandas read method\n",
      "print filename\n",
      "df2 = pd.read_csv(filename,skipinitialspace=True, dtype=unicode)\n",
      "# In line module\n",
      "temp_array = stack_dataframe(df2,num_kpi)\n",
      "final_array = np.vstack((temp_array,final_array))"
     ],
     "language": "python",
     "metadata": {},
     "outputs": [
      {
       "output_type": "stream",
       "stream": "stdout",
       "text": [
        "./NYC-1-7-to-1-15.csv\n",
        "Number of cells "
       ]
      },
      {
       "output_type": "stream",
       "stream": "stdout",
       "text": [
        " 36\n",
        "1 <type 'numpy.ndarray'> (1, 36) (36, 1) ['NYCCNYRYBBULTE007413931']\n",
        "length of dates  55 55\n",
        "(36, 82) (1908, 82)\n"
       ]
      }
     ],
     "prompt_number": 14
    },
    {
     "cell_type": "code",
     "collapsed": false,
     "input": [
      "#Careful this will call a module that writes out to a file\n",
      "df_out = fix_write_csv(final_array,num_kpi)"
     ],
     "language": "python",
     "metadata": {},
     "outputs": [],
     "prompt_number": 15
    },
    {
     "cell_type": "code",
     "collapsed": false,
     "input": [
      "df_out.count()\n",
      "#df_out.sort_index(by=5, ascending =False)"
     ],
     "language": "python",
     "metadata": {},
     "outputs": [
      {
       "metadata": {},
       "output_type": "pyout",
       "prompt_number": 33,
       "text": [
        "0     1908\n",
        "1     1908\n",
        "2     1908\n",
        "3     1752\n",
        "4     1752\n",
        "5     1752\n",
        "6     1752\n",
        "7     1788\n",
        "8     1908\n",
        "9     1752\n",
        "10    1752\n",
        "11    1788\n",
        "12    1788\n",
        "13     775\n",
        "14    1750\n",
        "...\n",
        "67    1908\n",
        "68    1752\n",
        "69    1752\n",
        "70    1752\n",
        "71    1908\n",
        "72    1908\n",
        "73    1908\n",
        "74    1908\n",
        "75    1908\n",
        "76    1908\n",
        "77    1908\n",
        "78       3\n",
        "79    1908\n",
        "80       0\n",
        "81    1752\n",
        "Length: 82, dtype: int64"
       ]
      }
     ],
     "prompt_number": 33
    },
    {
     "cell_type": "code",
     "collapsed": false,
     "input": [
      "# take the average throughput should be column 81\n",
      "tput = int(81)\n",
      "cnx = int(8)\n",
      "avg_throughput = df_out[tput].mean()\n",
      "\n",
      "print 'Average throughput ', avg_throughput\n",
      "#Here we attempt to filter out low traffic sites or not.  We need to know what the count column is to do this.\n",
      "dflow =df_out[(df_out[tput] <=1.0) & (df_out[cnx] >1)]\n",
      "dflow =dflow.ix[:,[0,2,5,cnx, tput]]\n",
      "dflow =dflow.sort_index(by=cnx, ascending =False)\n",
      "print dflow.columns, '\\n',dflow.count()\n",
      "\n",
      "#dflow.dropna(subset=[3,4,5,6,8, 12,13], inplace =True)\n",
      "print '\\n',dflow.head(5)"
     ],
     "language": "python",
     "metadata": {},
     "outputs": [
      {
       "output_type": "stream",
       "stream": "stdout",
       "text": [
        "Average throughput  4.34671803653\n",
        "Int64Index([0, 2, 5, 8, 81], dtype='int64') \n",
        "0     9\n",
        "2     9\n",
        "5     9\n",
        "8     9\n",
        "81    9\n",
        "dtype: int64\n",
        "\n",
        "                           0   2     5    8     81\n",
        "1851  NYCPNYCCBBULTE007417224   4  6.63  182  0.65\n",
        "983   NYCLNYPHBBULTE007413134   4  4.27  149  0.12\n",
        "1873  NYCCNYRYBBULTE007413914   5  4.41  138  0.47\n",
        "155   NYCLNYPHBBULTE007413134   5  5.69  123  0.79\n",
        "115   NYCLNYPHBBULTE007413114   4  3.31  100  0.21\n"
       ]
      }
     ],
     "prompt_number": 34
    },
    {
     "cell_type": "code",
     "collapsed": false,
     "input": [
      "dflow[tput].mean()\n",
      "#df2.sort_index(by =11, ascending =False)\n",
      "#Throughput_average = df_out.mean(columns=5)"
     ],
     "language": "python",
     "metadata": {},
     "outputs": [
      {
       "metadata": {},
       "output_type": "pyout",
       "prompt_number": 30,
       "text": [
        "0.50888888888888895"
       ]
      }
     ],
     "prompt_number": 30
    },
    {
     "cell_type": "code",
     "collapsed": false,
     "input": [
      "throughput_cumsum = dflow[tput].cumsum()\n",
      "%pylab --no-import-all inline\n",
      "plt.figure(); \n",
      "throughput_cumsum.plot(kind ='kde');\n",
      "plt.figure(); \n",
      "dflow.plot(x=tput,y =cnx, kind='scatter')"
     ],
     "language": "python",
     "metadata": {},
     "outputs": [
      {
       "output_type": "stream",
       "stream": "stdout",
       "text": [
        "Populating the interactive namespace from numpy and matplotlib\n"
       ]
      },
      {
       "metadata": {},
       "output_type": "pyout",
       "prompt_number": 24,
       "text": [
        "<matplotlib.axes._subplots.AxesSubplot at 0x7fb9092055d0>"
       ]
      },
      {
       "metadata": {},
       "output_type": "display_data",
       "png": "[encoded data removed]",
       "text": [
        "<matplotlib.figure.Figure at 0x7fb910cb3050>"
       ]
      },
      {
       "metadata": {},
       "output_type": "display_data",
       "text": [
        "<matplotlib.figure.Figure at 0x7fb910d51050>"
       ]
      },
      {
       "metadata": {},
       "output_type": "display_data",
       "png": "[encoded data removed]",
       "text": [
        "<matplotlib.figure.Figure at 0x7fb909223f50>"
       ]
      }
     ],
     "prompt_number": 24
    },
    {
     "cell_type": "code",
     "collapsed": false,
     "input": [
      "#test setting arrays and broadcasting values\n",
      "\n",
      "\n",
      "# Test hstack\n",
      "if False:\n",
      "    countt =0\n",
      "    nray =[]\n",
      "    nray = df.values[5:8,(countt+1):(countt)+12]\n",
      "    mycelist = np.array([['c1', 'c2', 'c3']])\n",
      "    mycelist = mycelist.T\n",
      "    print 'initial nray shape ', nray.shape, 'mycelist ', len(mycelist), mycelist.shape\n",
      "    nray = np.hstack((mycelist,nray))\n",
      "\n",
      "    print 'nray shape ',nray.shape\n",
      "    print 'nray \\n', nray\n",
      "# Test numpy broadcasting\n",
      "#slength is the number of cells\n",
      "if True:\n",
      "    set_date = np.chararray((slength,1))\n",
      "    set_hour = np.chararray((slength,1))\n",
      "    set_date = np.chararray(set_date.shape,itemsize=slength)\n",
      "    set_hour = np.chararray(set_date.shape,itemsize=slength)\n",
      "    set_date[:] = dates[1]\n",
      "    set_hour[:] = hour[7]\n",
      "    \n",
      "    print set_date.shape, set_date.take(4), set_hour[4], hour[5]\n",
      "    print hour[:]"
     ],
     "language": "python",
     "metadata": {},
     "outputs": []
    },
    {
     "cell_type": "code",
     "collapsed": false,
     "input": [
      "# First slice only the firt column\n",
      " # set the datatype of columns\n",
      "#dflow =df_out[ (df_out[2] >=1)&(df_out[2] <=23)].dropna()\n",
      "dflow =df_out[(df_out[tput] <=5.0) & (df_out[cnx] >1)]\n",
      "\n",
      "#dflow = df_out.dropna()\n",
      "#print dflow.count()\n",
      "avg_throughput = dflow[tput].mean()\n",
      "\n",
      "#this would only pick out TDD cells that end with 7\n",
      "#dflow = dflow[dflow[0].str.endswith('7')]\n",
      "\n",
      "#this would only pick out TDD cells that end with 4\n",
      "dflow = dflow[dflow[0].str.endswith('1')]\n",
      "favgtput =dflow[(dflow[tput]<=5)]\n",
      " \n",
      "fav = favgtput[tput].mean()\n",
      "dflow = dflow.sort_index(by=tput, ascending=True)\n",
      "print dflow.head(2), '\\navg_throughput', avg_throughput,'\\nonly certain cells =',fav\n"
     ],
     "language": "python",
     "metadata": {},
     "outputs": [
      {
       "output_type": "stream",
       "stream": "stdout",
       "text": [
        "                           0         1   2   3   4     5     6     7      8   \\\n",
        "1376  NYCLNYPHBBULTE007413121  1/8/2015  15   0   1  5.07  3.67  1.73  17911   \n",
        "1340  NYCLNYPHBBULTE007413121  1/8/2015  14   0   1  5.22  4.06  2.03  17393   \n",
        "\n",
        "        9   ...     72    73    74    75    76    77   78    79  80    81  \n",
        "1376  1.00  ...   0.00  0.00  0.00  0.00  0.00  0.00  NaN  0.00 NaN  1.06  \n",
        "1340  0.99  ...   0.00  0.00  0.00  0.00  0.00  0.00  NaN  0.00 NaN  1.08  \n",
        "\n",
        "[2 rows x 82 columns] \n",
        "avg_throughput 3.23884430177 \n",
        "only certain cells = 3.21773734177\n"
       ]
      }
     ],
     "prompt_number": 46
    },
    {
     "cell_type": "code",
     "collapsed": false,
     "input": [
      "# find the top cells for 4G to 3G Coverage HOs\n",
      "df_cov = df_out.sort_index(by=13, ascending =False)\n",
      " \n",
      "\n",
      "df_cov = df_cov.dropna()\n",
      "df_top =df_cov.head(5000)\n",
      "\n",
      "plt.figure()\n",
      "df_top.plot(x=0,y=13)"
     ],
     "language": "python",
     "metadata": {},
     "outputs": [
      {
       "metadata": {},
       "output_type": "pyout",
       "prompt_number": 116,
       "text": [
        "<matplotlib.axes._subplots.AxesSubplot at 0x7f4f7f69fa50>"
       ]
      },
      {
       "metadata": {},
       "output_type": "display_data",
       "png": "[encoded data removed]",
       "text": [
        "<matplotlib.figure.Figure at 0x7f4f7f6b6e50>"
       ]
      }
     ],
     "prompt_number": 116
    },
    {
     "cell_type": "code",
     "collapsed": false,
     "input": [
      "if True:\n",
      "    df_top.to_csv('output/top_3g_opt.out')"
     ],
     "language": "python",
     "metadata": {},
     "outputs": [],
     "prompt_number": 117
    },
    {
     "cell_type": "code",
     "collapsed": false,
     "input": [],
     "language": "python",
     "metadata": {},
     "outputs": []
    }
   ],
   "metadata": {}
  }
 ]
}