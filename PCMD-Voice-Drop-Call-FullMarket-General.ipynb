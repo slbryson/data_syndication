{
 "metadata": {
  "name": "",
  "signature": "sha256:318e6ce3abfc2d37f6586ea8aff79744d62d351a8bbfe7ee6badc1e3318d9818"
 },
 "nbformat": 3,
 "nbformat_minor": 0,
 "worksheets": [
  {
   "cells": [
    {
     "cell_type": "code",
     "collapsed": false,
     "input": [
      "import pandas as pd\n",
      "import numpy as np\n",
      "import re\n",
      "import csv\n",
      "import itertools\n",
      "from  ncv_lib import *\n",
      "import time\n",
      "\n",
      "maxReadRows = 1000000\n",
      "inputFile = '/opt/data/Boston_CDMA.csv'\n",
      "inputFile = '/opt/data/BAWA_CDMA.csv'\n",
      "#inputFile = r'/opt/data/LA_Metro_CDMA_drop_call_analysis.csv'\n",
      "start = time.time()\n",
      "df1 = get_dataframe(inputFile,maxReadRows)\n",
      "end = time.time()\n",
      "print 'Read Time = ', end- start"
     ],
     "language": "python",
     "metadata": {},
     "outputs": [
      {
       "output_type": "stream",
       "stream": "stdout",
       "text": [
        "Read Time =  3622.31358886\n"
       ]
      }
     ],
     "prompt_number": 2
    },
    {
     "cell_type": "code",
     "collapsed": false,
     "input": [
      "from ncv_lib import *\n",
      "\n",
      "CDMA, PCS, Unknown, datasize = check_band(df1)\n",
      "print \"\\n \"\n",
      "header = ['CDMA', 'PCS', 'Unknown', 'datasize']\n",
      "end_band = [CDMA, PCS, Unknown, datasize]\n",
      "\n",
      "two_way, weak_active, missing, datasize = check_drop(df1)\n",
      "header = ['Two_way','Weak_Active','Missing', 'Datasize']\n",
      "drop_reason = [two_way, weak_active, missing, datasize]"
     ],
     "language": "python",
     "metadata": {},
     "outputs": [
      {
       "output_type": "stream",
       "stream": "stdout",
       "text": [
        "CDMA band = 18 percent\n",
        "PCS band = 68 percent\n",
        "Unknown band = 14 percent\n",
        "Total data set size = 1000000\n",
        "\n",
        " \n",
        "Weak Active Set = 41.7 perecent"
       ]
      },
      {
       "output_type": "stream",
       "stream": "stdout",
       "text": [
        " \n",
        "Two Way = 27.4 percent \n",
        "Missing PN = 1.8 perecent\n",
        "Data set size =  1000000\n"
       ]
      }
     ],
     "prompt_number": 9
    },
    {
     "cell_type": "code",
     "collapsed": false,
     "input": [
      "#& dm['Call Final Class qualifier'] !=(101,102,109)\n",
      "# We first need to filter out the RFA/RFBs since they are not counted as dropped call\n",
      "# Adding sector to the groupby increases the count of things.\n",
      "df3 = df1.copy()\n",
      "df3 = df3.loc[(df3['Call Final Class qualifier'] !='109') & (df3['Call Final Class qualifier'] !='101')]\n",
      "#print 'df3 is filtered ', df3.info()"
     ],
     "language": "python",
     "metadata": {},
     "outputs": [],
     "prompt_number": 10
    },
    {
     "cell_type": "code",
     "collapsed": false,
     "input": [
      "\n",
      "CDMA, PCS, Unknown, _= check_band(df3)\n",
      "print \"\\n \"\n",
      "\n",
      "two_way, weak_active, missing, datasize = check_drop(df3)\n",
      "print \"\\n \"\n"
     ],
     "language": "python",
     "metadata": {},
     "outputs": [
      {
       "output_type": "stream",
       "stream": "stdout",
       "text": [
        "CDMA band = 20 percent\n",
        "PCS band = 57 percent\n",
        "Unknown band = 22 percent\n",
        "Total data set size = 277452\n",
        "\n",
        " \n",
        "Weak Active Set = 56.1 perecent"
       ]
      },
      {
       "output_type": "stream",
       "stream": "stdout",
       "text": [
        " \n",
        "Two Way = 33.3 percent \n",
        "Missing PN = 3.3 perecent\n",
        "Data set size =  277452\n",
        "\n",
        " \n"
       ]
      }
     ],
     "prompt_number": 11
    },
    {
     "cell_type": "code",
     "collapsed": false,
     "input": [
      "\n",
      " \n",
      "dm_sector, dm_cell = agg_by(df3)\n"
     ],
     "language": "python",
     "metadata": {},
     "outputs": [
      {
       "output_type": "stream",
       "stream": "stdout",
       "text": [
        "\n",
        "Number of items in dm_sector =  9998\n",
        "\n",
        "Number of items in dm_cell =  1375\n"
       ]
      }
     ],
     "prompt_number": 12
    },
    {
     "cell_type": "code",
     "collapsed": false,
     "input": [
      "top_count_cell = make_mean(dm_cell)\n",
      "top_count_sector = make_mean_carrier(dm_sector)\n",
      "write_top_sectors(dm_sector,top_count_sector)\n",
      "agg_by_reason(df3)"
     ],
     "language": "python",
     "metadata": {},
     "outputs": [
      {
       "output_type": "stream",
       "stream": "stdout",
       "text": [
        "\n",
        "Total Number of Cells in Filtered List =  1375 \n",
        "Number of cells in top offenders =  93\n",
        "6.76 percent\n",
        "\n",
        "Mean = 201.783272727 Standard deviation  446.969520551 Mean + 1 sigma =  648\n",
        "Total Sector Count = 9998\n",
        "\n",
        "Number of Top Offending Sectors =    0 \n",
        "0.00 percent\n",
        "\n",
        "Mean =  27 Standard deviation  66.2197176243 Mean + 1 sigma =   93\n",
        "<class 'pandas.core.frame.DataFrame'> \n",
        "Number of Sectors 589 Index([u'ECP', u'Cell', u'Sector', u'Carrier'], dtype='object')\n",
        "Succcessfully wrote out  589  items to  output/top_cdma_drop_list-fullmarket.txt\n",
        "<class 'pandas.core.frame.DataFrame'>"
       ]
      },
      {
       "output_type": "stream",
       "stream": "stdout",
       "text": [
        " \n",
        "Number Rows for the group by Sector  42786\n"
       ]
      }
     ],
     "prompt_number": 13
    },
    {
     "cell_type": "code",
     "collapsed": false,
     "input": [],
     "language": "python",
     "metadata": {},
     "outputs": []
    }
   ],
   "metadata": {}
  }
 ]
}