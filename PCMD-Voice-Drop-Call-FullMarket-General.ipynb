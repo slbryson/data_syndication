{
 "metadata": {
  "name": "",
  "signature": "sha256:ddee84d958cadcb0aea96eed749575707b346632177ce40b98489d8aa6d49a17"
 },
 "nbformat": 3,
 "nbformat_minor": 0,
 "worksheets": [
  {
   "cells": [
    {
     "cell_type": "code",
     "collapsed": false,
     "input": [
      "########################\n",
      "def get_time_range(saved_columns):\n",
      "    dates =[]\n",
      "    hour = []\n",
      "    ctr2=0\n",
      "    ctr = 0\n",
      "    ctr_ix =0\n",
      "    # Create hours and dates\n",
      "    for col in saved_columns:\n",
      "        if not col.startswith('Unnamed'):\n",
      "            ctr2 =ctr2+1\n",
      "            #print col.split(), col.split()[1:]\n",
      "            dates.append(col.split()[:1]) \n",
      "            hour.append(col.split()[1:])\n",
      "    return dates, hour\n",
      "#########################"
     ],
     "language": "python",
     "metadata": {},
     "outputs": [],
     "prompt_number": 2
    },
    {
     "cell_type": "code",
     "collapsed": false,
     "input": [
      "def stack_dataframe(df2,num_kpi):\n",
      "    #This code will grab 11 columns and reshape them into rows and add them on to the end of an array\n",
      "    \n",
      "    #Delcare some variables\n",
      "\n",
      "    ctr =0\n",
      "    ctr_ix =0\n",
      "    kray = []\n",
      "    temp_array = []\n",
      "    saved_columns =[]\n",
      "    ######################################\n",
      "    #Rename the first column to cell id\n",
      "    df = df2[1:]\n",
      "\n",
      "    saved_columns =df2.columns\n",
      "    slength = len(df[saved_columns[0]])\n",
      " \n",
      "    df.rename(columns={'Unnamed: 0':'cellid'}, inplace=True)\n",
      "    #Set the length of the number of cells\n",
      " \n",
      "    print 'Number of cells ', slength\n",
      "    clist = gen_cell_list(df)\n",
      "    ######################################\n",
      "    set_date = np.chararray((slength,1))\n",
      "    set_hour = np.chararray((slength,1))\n",
      "    set_date = np.chararray(set_date.shape,itemsize=slength)\n",
      "    set_hour = np.chararray(set_date.shape,itemsize=slength)\n",
      "    final_array =np.ndarray(shape =(slength,num_kpi+3))\n",
      "\n",
      "    # Get the date and hour\n",
      "    saved_dates = df2.columns\n",
      "    #call function to computer hour and date range\n",
      "    dates, hour = get_time_range(saved_dates)\n",
      "    #Skip the first row for the data file\n",
      "    print 'length of dates ', len(dates), len(hour)\n",
      "    #Most of these files have up to 1168 columns.  You can't just transponse the matrix because the hours and dates\n",
      "    #have to be inserted.\n",
      "\n",
      "    for count in range(1,len(df.columns)):\n",
      "        if ctr ==0 and count <num_kpi:\n",
      "            nray = df.values[:,(count):(count)+num_kpi]\n",
      "            set_date[:] = dates[ctr_ix]\n",
      "            set_hour[:] = hour[ctr_ix]\n",
      "            final_array = np.hstack((clist,set_date,set_hour,nray))\n",
      "            #final_array = np.vstack([final_array,temp_array])\n",
      "            #print 'ctr_ix', ctr_ix, 'count ', count, final_array.shape, final_array[0]\n",
      "        if ctr >= num_kpi and count < (len(df.columns)-num_kpi):\n",
      "\n",
      "            #print 'Should hit ', count, ctr_ix, dates[ctr_ix], hour[ctr_ix]\n",
      "            ctr_ix = ctr_ix + 1\n",
      "            set_date[:] = dates[ctr_ix]\n",
      "            set_hour[:] = hour[ctr_ix]\n",
      "\n",
      "            if ctr_ix > 1:\n",
      "                nray = df.values[:,(count):(count)+num_kpi]\n",
      "                #nray = np.vstack([nray,df.values[:,(count+1):(count)+12]])\n",
      "                # build temporary array with new columns\n",
      "                temp_array = np.hstack((clist,set_date,set_hour,nray))\n",
      "                final_array = np.vstack([final_array,temp_array])\n",
      "                # Add the new temp to the bottom of the final array\n",
      "\n",
      "                #print df.ix[5,(count):(count)+num_kpi]\n",
      "            ctr =0\n",
      "        ctr = ctr + 1\n",
      "\n",
      "    if True:\n",
      "        print temp_array.shape, final_array.shape\n",
      "    if False:\n",
      "        print 'Example of Final array ', final_array[0], '\\n Example of final array ', final_array[2]\n",
      "    return final_array"
     ],
     "language": "python",
     "metadata": {},
     "outputs": [],
     "prompt_number": 3
    },
    {
     "cell_type": "code",
     "collapsed": false,
     "input": [
      "def gen_cell_list(df):\n",
      "    # Generate cell list from first column\n",
      "    cellist = []\n",
      "    slength = len(df['cellid'])\n",
      "    cellist = np.array([df.values[:,0]])\n",
      "    clist = cellist.T\n",
      "    print len(cellist), type(cellist), cellist.shape, clist.shape, clist[4]\n",
      "    return clist"
     ],
     "language": "python",
     "metadata": {},
     "outputs": [],
     "prompt_number": 4
    },
    {
     "cell_type": "code",
     "collapsed": false,
     "input": [
      "def fix_write_csv(final_array,num_kpi):\n",
      "    # Create a data frame from array\n",
      "    # inputs will be a N X M data array with M = to the number of KPIs + HR +Date + Cell Id.\n",
      "    # N will be the number of events\n",
      "    # slength is the length of the number of cells\n",
      "    # clist is a K X 1 vector with the cell names which can also be used as an index\n",
      "\n",
      "\n",
      "    df_out = DataFrame(final_array)\n",
      "    # Reset the columns.  This will work for an arbitrary number of KPI, but the KPI range + cell must be modified\n",
      "    if False:\n",
      "\n",
      "        for row in range(1, 12):\n",
      "            df_out.rename(columns={row+2:df.columns[row]}, inplace=True)\n",
      "        # We stuck in the hour and date so need to do those manually. Could probably combine with above\n",
      "        df_out.rename(columns={0:'cellid',1:'Date',2:'Hour'}, inplace=True)\n",
      "\n",
      "        #create index from cell list\n",
      "        indexed_df = df_out.set_index('cellid',[clist])\n",
      "\n",
      "\n",
      "    # Change hours into numbers\n",
      "    df2 = df_out.replace(['0:00','1:00','2:00','3:00','4:00','5:00','6:00','7:00', '8:00','9:00', \\\n",
      "                          '10:00','11:00','12:00','13:00','14:00','15:00','16:00','17:00','18:00', \\\n",
      "                          '19:00', '20:00','21:00','22:00', '23:00'], \\\n",
      "                         [0,1,2,3,4,5,6,7,8,9,10,11,12, 13, 14, 15, 16, 17,18, 19, 20,21, 22, 23])\n",
      "    # Fix Nerr entries\n",
      "    df2 = df2.replace(['Nerr'],[np.NaN])\n",
      "    # fix other artifacts\n",
      "    df2 = df2.replace(['&nbsp;'],[np.NaN])\n",
      "    # set the datatype of columns\n",
      "    df2[[3,4,5,6,7,8,9,10,11,12, 13]]= df2[[3,4,5,6,7,8,9,10,11,12,13]].astype(float)\n",
      "    df2[[0]] = df2[[0]].astype(str)\n",
      "    df2[[1]] = df2[[1]].astype(datetime)\n",
      "    if True:\n",
      "        df2.to_csv('output/master_kpi.out')\n",
      "    return df2"
     ],
     "language": "python",
     "metadata": {},
     "outputs": [],
     "prompt_number": 5
    },
    {
     "cell_type": "code",
     "collapsed": false,
     "input": [
      "def check_drop(arr):\n",
      "     \n",
      "    peg =peg2 = peg3 =0 \n",
      "    takestring =''\n",
      "    for row in range(len(arr)):\n",
      "        if arr[row][13].find('#TwoWay') !=-1:\n",
      "            peg = peg + 1;takestring = arr[row][13]\n",
      "        if arr[row][13].find('#WeakActiveset') !=-1:\n",
      "            peg2 = peg2+1\n",
      "        if arr[row][13].find('#Missing') !=-1:\n",
      "            peg3 = peg3 +1; takestring= arr[row][13]\n",
      "\n",
      "    pctTwo = float(peg)/len(arr)\n",
      "    pctWeak = float(peg2)/len(arr)\n",
      "    pctMiss = float(peg3)/len(arr)\n",
      "    print 'Percent with TwoWay ', '%0.4f' % pctTwo, 'Total Number ',peg\n",
      "    print 'Percent with WeakActiveset ','%0.4f' % pctWeak, 'Total Number ',peg2\n",
      "    print 'Percent with Missing Neighbor ', '%0.4f' % pctMiss, 'Total Number ', peg3\n",
      "    print 'Total Peg count  not relevant', peg + peg2 + peg3\n",
      "    return\n"
     ],
     "language": "python",
     "metadata": {},
     "outputs": [],
     "prompt_number": 6
    },
    {
     "cell_type": "code",
     "collapsed": false,
     "input": [
      "def check_band(arr):\n",
      "    peg =peg2 = peg3 =0 \n",
      "    takestring =''\n",
      "    for row in range(len(arr)):\n",
      "        if arr[row][59].find('CDMA') !=-1:\n",
      "            peg = peg + 1;takestring = arr[row][13]\n",
      "        if arr[row][59].find('PCS') !=-1:\n",
      "            peg2 = peg2+1\n",
      "        if arr[row][59].find('Unknown') !=-1:\n",
      "            peg3 = peg3 +1; takestring= arr[row][13]\n",
      "\n",
      "    pctCDMA = float(peg)/len(arr)\n",
      "    pctPCS = float(peg2)/len(arr)\n",
      "    pctUnk = float(peg3)/len(arr)\n",
      "    print 'Percent with CDMA ', '%0.4f' % pctCDMA, 'Total Number ',peg\n",
      "    print 'Percent with PCS ','%0.4f' % pctPCS, 'Total Number ',peg2\n",
      "    print 'Percent with Unknown ', '%0.4f' % pctUnk, 'Total Number ', peg3\n",
      "    print 'Total Peg count  not relevant', peg + peg2 + peg3\n",
      "    return"
     ],
     "language": "python",
     "metadata": {},
     "outputs": [],
     "prompt_number": 7
    },
    {
     "cell_type": "code",
     "collapsed": false,
     "input": [
      "\n",
      "#Disabled\n",
      "#Makesure variable filename is set from previous cell at some point.\n",
      "    \n",
      "a =[]\n",
      "#arr =np.ndarray(shape =400000).astype(object)\n",
      "if False:\n",
      "    arr =np.genfromtxt(filename,autostrip = True,invalid_raise=False, delimiter=',', dtype= object)\n",
      "    print 'Finished reading ', type (arr), arr.shape\n",
      "# Read file into an array\n",
      "if False:\n",
      "    csvreader = csv.reader(open(filename,'rb'))\n",
      "    for row in csvreader:\n",
      "        a.append(row)\n",
      "print 'Finished reading ', type (a), len(a)"
     ],
     "language": "python",
     "metadata": {},
     "outputs": [
      {
       "output_type": "stream",
       "stream": "stdout",
       "text": [
        "Finished reading  <type 'list'> 0\n"
       ]
      }
     ],
     "prompt_number": 8
    },
    {
     "cell_type": "code",
     "collapsed": false,
     "input": [
      "#Currently Disabled\n",
      " \n",
      "#We are reading both a dataframe in df2 and an array in a\n",
      "if False:\n",
      "    arr3 = np.asarray(a, dtype=object)\n",
      "if False:\n",
      "    arr3 = arr\n",
      "    print 'From Array ',type(arr3), '\\nLength = ', len(arr3)\n"
     ],
     "language": "python",
     "metadata": {},
     "outputs": [],
     "prompt_number": 9
    },
    {
     "cell_type": "code",
     "collapsed": false,
     "input": [
      "# Check Ending Band from full data set.\n",
      "if False:\n",
      "    check_band(arr3)"
     ],
     "language": "python",
     "metadata": {},
     "outputs": [],
     "prompt_number": 10
    },
    {
     "cell_type": "code",
     "collapsed": false,
     "input": [
      "# Use the Check drop routine on the larger array to get statistics\n",
      "# Note arr3 equal full data set\n",
      "if False:\n",
      "    check_drop(arr3)"
     ],
     "language": "python",
     "metadata": {},
     "outputs": [],
     "prompt_number": 11
    },
    {
     "cell_type": "code",
     "collapsed": false,
     "input": [
      "# Use Pandas to read in data\n",
      "import pandas as pd\n",
      "import os\n",
      "import datetime\n",
      "import numpy as np\n",
      "from operator import itemgetter, attrgetter\n",
      "from StringIO import StringIO\n",
      "from pandas import *\n",
      "import matplotlib.pyplot as plt\n",
      "import csv\n",
      "from collections import Counter\n",
      "import itertools\n",
      "%pylab --no-import-all inline\n",
      "\n",
      "#note the given director is specific to the system where the data files are located.\n",
      "in_dir = r\"/vagrant/data_syndication/\"\n",
      "filename ='CDMA Drop Call PCMD Records 11-2 to 11-9.csv'\n",
      "filename ='PCMD-Voice-Drop-Call-11-02-to-11-09.hr17hr18.csv'\n",
      "filename4 = 'PCMDBased_DropCallAnalysis_MeasurementData-1109-1118.csv'\n",
      "filename = 'PCMDBased_DropCall-Full-1109-1112.csv'\n",
      "filename2 = 'PCMDBased_DropCall-Full-1113-1116.csv'\n",
      "filename2 = 'LA_Metro_CDMA_drop_call_analysis.csv'\n",
      "\n",
      "filename =filename"
     ],
     "language": "python",
     "metadata": {},
     "outputs": [
      {
       "output_type": "stream",
       "stream": "stdout",
       "text": [
        "Populating the interactive namespace from numpy and matplotlib\n"
       ]
      }
     ],
     "prompt_number": 12
    },
    {
     "cell_type": "code",
     "collapsed": false,
     "input": [
      "# There are 4,727,508 records in the LA data file.\n",
      "if False:\n",
      "    #use the pandas library\n",
      "    df3= pd.read_csv(filename2,skipinitialspace=True,dtype=unicode)\n",
      "    print  df3.info()\n",
      "else:\n",
      "    a=[]\n",
      "    count = 0\n",
      "    csvreader = csv.DictReader(open(filename2,'rb'))\n",
      "    for row in csvreader:\n",
      "        a.append(row)\n",
      "        count = count + 1\n",
      "        if count == 500000:\n",
      "            break\n",
      "print 'Finished reading ', type (a), len(a)\n"
     ],
     "language": "python",
     "metadata": {},
     "outputs": []
    },
    {
     "cell_type": "code",
     "collapsed": false,
     "input": [
      "#arr3 = np.asarray(a, dtype=object)\n",
      "df2= pd.DataFrame(a)\n",
      "print  'Information \\n', df2.info()\n"
     ],
     "language": "python",
     "metadata": {},
     "outputs": [
      {
       "output_type": "stream",
       "stream": "stdout",
       "text": [
        "Information \n",
        "<class 'pandas.core.frame.DataFrame'>\n",
        "Int64Index: 500000 entries, 0 to 499999\n",
        "Columns: 134 entries, 0 to 133\n",
        "dtypes: object(134)None\n"
       ]
      }
     ],
     "prompt_number": 58
    },
    {
     "cell_type": "code",
     "collapsed": false,
     "input": [
      "# Create a count to look for the cells with the most drops\n",
      "# Check to see if df3 was created:\n",
      "# You can't run this more than once!!!\n",
      "#df2 = concat([df2,df3])\n",
      "df3 =[]\n",
      "print df2[4]"
     ],
     "language": "python",
     "metadata": {},
     "outputs": [
      {
       "output_type": "stream",
       "stream": "stdout",
       "text": [
        "0           Date\n",
        "1     01-25-2015\n",
        "2     01-25-2015\n",
        "3     01-25-2015\n",
        "4     01-25-2015\n",
        "5     01-25-2015\n",
        "6     01-25-2015\n",
        "7     01-25-2015\n",
        "8     01-25-2015\n",
        "9     01-25-2015\n",
        "10    01-25-2015\n",
        "11    01-25-2015\n",
        "12    01-25-2015\n",
        "13    01-25-2015\n",
        "14    01-25-2015\n",
        "...\n",
        "499985    01-25-2015\n",
        "499986    01-25-2015\n",
        "499987    01-25-2015\n",
        "499988    01-25-2015\n",
        "499989    01-25-2015\n",
        "499990    01-25-2015\n",
        "499991    01-25-2015\n",
        "499992    01-25-2015\n",
        "499993    01-25-2015\n",
        "499994    01-25-2015\n",
        "499995    01-25-2015\n",
        "499996    01-25-2015\n",
        "499997    01-25-2015\n",
        "499998    01-25-2015\n",
        "499999    01-25-2015\n",
        "Name: 4, Length: 500000, dtype: object\n"
       ]
      }
     ],
     "prompt_number": 61
    },
    {
     "cell_type": "code",
     "collapsed": false,
     "input": [
      "#print df2.groupby('Cell').agg(sum)"
     ],
     "language": "python",
     "metadata": {},
     "outputs": [],
     "prompt_number": 46
    },
    {
     "cell_type": "code",
     "collapsed": false,
     "input": [
      "#& dm['Call Final Class qualifier'] !=(101,102,109)\n",
      "# We first need to filter out the RFA/RFBs since they are not counted as dropped call\n",
      "# Adding sector to the groupby increases the count of things.\n",
      "df3 =df2.copy()\n",
      "df3 = df3.loc[(df3['Call Final Class qualifier'] !='109') & (df3['Call Final Class qualifier'] !='101')]\n",
      "print 'df3 is filtered ', df3.info()"
     ],
     "language": "python",
     "metadata": {},
     "outputs": [
      {
       "ename": "KeyError",
       "evalue": "'Call Final Class qualifier'",
       "output_type": "pyerr",
       "traceback": [
        "\u001b[1;31m---------------------------------------------------------------------------\u001b[0m\n\u001b[1;31mKeyError\u001b[0m                                  Traceback (most recent call last)",
        "\u001b[1;32m<ipython-input-54-658479009fe7>\u001b[0m in \u001b[0;36m<module>\u001b[1;34m()\u001b[0m\n\u001b[0;32m      3\u001b[0m \u001b[1;31m# Adding sector to the groupby increases the count of things.\u001b[0m\u001b[1;33m\u001b[0m\u001b[1;33m\u001b[0m\u001b[0m\n\u001b[0;32m      4\u001b[0m \u001b[0mdf3\u001b[0m \u001b[1;33m=\u001b[0m\u001b[0mdf2\u001b[0m\u001b[1;33m.\u001b[0m\u001b[0mcopy\u001b[0m\u001b[1;33m(\u001b[0m\u001b[1;33m)\u001b[0m\u001b[1;33m\u001b[0m\u001b[0m\n\u001b[1;32m----> 5\u001b[1;33m \u001b[0mdf3\u001b[0m \u001b[1;33m=\u001b[0m \u001b[0mdf3\u001b[0m\u001b[1;33m.\u001b[0m\u001b[0mloc\u001b[0m\u001b[1;33m[\u001b[0m\u001b[1;33m(\u001b[0m\u001b[0mdf3\u001b[0m\u001b[1;33m[\u001b[0m\u001b[1;34m'Call Final Class qualifier'\u001b[0m\u001b[1;33m]\u001b[0m \u001b[1;33m!=\u001b[0m\u001b[1;34m'109'\u001b[0m\u001b[1;33m)\u001b[0m \u001b[1;33m&\u001b[0m \u001b[1;33m(\u001b[0m\u001b[0mdf3\u001b[0m\u001b[1;33m[\u001b[0m\u001b[1;34m'Call Final Class qualifier'\u001b[0m\u001b[1;33m]\u001b[0m \u001b[1;33m!=\u001b[0m\u001b[1;34m'101'\u001b[0m\u001b[1;33m)\u001b[0m\u001b[1;33m]\u001b[0m\u001b[1;33m\u001b[0m\u001b[0m\n\u001b[0m\u001b[0;32m      6\u001b[0m \u001b[1;32mprint\u001b[0m \u001b[1;34m'df3 is filtered '\u001b[0m\u001b[1;33m,\u001b[0m \u001b[0mdf3\u001b[0m\u001b[1;33m.\u001b[0m\u001b[0minfo\u001b[0m\u001b[1;33m(\u001b[0m\u001b[1;33m)\u001b[0m\u001b[1;33m\u001b[0m\u001b[0m\n",
        "\u001b[1;32m/home/vagrant/anaconda/lib/python2.7/site-packages/pandas/core/frame.pyc\u001b[0m in \u001b[0;36m__getitem__\u001b[1;34m(self, key)\u001b[0m\n\u001b[0;32m   1676\u001b[0m             \u001b[1;32mreturn\u001b[0m \u001b[0mself\u001b[0m\u001b[1;33m.\u001b[0m\u001b[0m_getitem_multilevel\u001b[0m\u001b[1;33m(\u001b[0m\u001b[0mkey\u001b[0m\u001b[1;33m)\u001b[0m\u001b[1;33m\u001b[0m\u001b[0m\n\u001b[0;32m   1677\u001b[0m         \u001b[1;32melse\u001b[0m\u001b[1;33m:\u001b[0m\u001b[1;33m\u001b[0m\u001b[0m\n\u001b[1;32m-> 1678\u001b[1;33m             \u001b[1;32mreturn\u001b[0m \u001b[0mself\u001b[0m\u001b[1;33m.\u001b[0m\u001b[0m_getitem_column\u001b[0m\u001b[1;33m(\u001b[0m\u001b[0mkey\u001b[0m\u001b[1;33m)\u001b[0m\u001b[1;33m\u001b[0m\u001b[0m\n\u001b[0m\u001b[0;32m   1679\u001b[0m \u001b[1;33m\u001b[0m\u001b[0m\n\u001b[0;32m   1680\u001b[0m     \u001b[1;32mdef\u001b[0m \u001b[0m_getitem_column\u001b[0m\u001b[1;33m(\u001b[0m\u001b[0mself\u001b[0m\u001b[1;33m,\u001b[0m \u001b[0mkey\u001b[0m\u001b[1;33m)\u001b[0m\u001b[1;33m:\u001b[0m\u001b[1;33m\u001b[0m\u001b[0m\n",
        "\u001b[1;32m/home/vagrant/anaconda/lib/python2.7/site-packages/pandas/core/frame.pyc\u001b[0m in \u001b[0;36m_getitem_column\u001b[1;34m(self, key)\u001b[0m\n\u001b[0;32m   1683\u001b[0m         \u001b[1;31m# get column\u001b[0m\u001b[1;33m\u001b[0m\u001b[1;33m\u001b[0m\u001b[0m\n\u001b[0;32m   1684\u001b[0m         \u001b[1;32mif\u001b[0m \u001b[0mself\u001b[0m\u001b[1;33m.\u001b[0m\u001b[0mcolumns\u001b[0m\u001b[1;33m.\u001b[0m\u001b[0mis_unique\u001b[0m\u001b[1;33m:\u001b[0m\u001b[1;33m\u001b[0m\u001b[0m\n\u001b[1;32m-> 1685\u001b[1;33m             \u001b[1;32mreturn\u001b[0m \u001b[0mself\u001b[0m\u001b[1;33m.\u001b[0m\u001b[0m_get_item_cache\u001b[0m\u001b[1;33m(\u001b[0m\u001b[0mkey\u001b[0m\u001b[1;33m)\u001b[0m\u001b[1;33m\u001b[0m\u001b[0m\n\u001b[0m\u001b[0;32m   1686\u001b[0m \u001b[1;33m\u001b[0m\u001b[0m\n\u001b[0;32m   1687\u001b[0m         \u001b[1;31m# duplicate columns & possible reduce dimensionaility\u001b[0m\u001b[1;33m\u001b[0m\u001b[1;33m\u001b[0m\u001b[0m\n",
        "\u001b[1;32m/home/vagrant/anaconda/lib/python2.7/site-packages/pandas/core/generic.pyc\u001b[0m in \u001b[0;36m_get_item_cache\u001b[1;34m(self, item)\u001b[0m\n\u001b[0;32m   1050\u001b[0m         \u001b[0mres\u001b[0m \u001b[1;33m=\u001b[0m \u001b[0mcache\u001b[0m\u001b[1;33m.\u001b[0m\u001b[0mget\u001b[0m\u001b[1;33m(\u001b[0m\u001b[0mitem\u001b[0m\u001b[1;33m)\u001b[0m\u001b[1;33m\u001b[0m\u001b[0m\n\u001b[0;32m   1051\u001b[0m         \u001b[1;32mif\u001b[0m \u001b[0mres\u001b[0m \u001b[1;32mis\u001b[0m \u001b[0mNone\u001b[0m\u001b[1;33m:\u001b[0m\u001b[1;33m\u001b[0m\u001b[0m\n\u001b[1;32m-> 1052\u001b[1;33m             \u001b[0mvalues\u001b[0m \u001b[1;33m=\u001b[0m \u001b[0mself\u001b[0m\u001b[1;33m.\u001b[0m\u001b[0m_data\u001b[0m\u001b[1;33m.\u001b[0m\u001b[0mget\u001b[0m\u001b[1;33m(\u001b[0m\u001b[0mitem\u001b[0m\u001b[1;33m)\u001b[0m\u001b[1;33m\u001b[0m\u001b[0m\n\u001b[0m\u001b[0;32m   1053\u001b[0m             \u001b[0mres\u001b[0m \u001b[1;33m=\u001b[0m \u001b[0mself\u001b[0m\u001b[1;33m.\u001b[0m\u001b[0m_box_item_values\u001b[0m\u001b[1;33m(\u001b[0m\u001b[0mitem\u001b[0m\u001b[1;33m,\u001b[0m \u001b[0mvalues\u001b[0m\u001b[1;33m)\u001b[0m\u001b[1;33m\u001b[0m\u001b[0m\n\u001b[0;32m   1054\u001b[0m             \u001b[0mcache\u001b[0m\u001b[1;33m[\u001b[0m\u001b[0mitem\u001b[0m\u001b[1;33m]\u001b[0m \u001b[1;33m=\u001b[0m \u001b[0mres\u001b[0m\u001b[1;33m\u001b[0m\u001b[0m\n",
        "\u001b[1;32m/home/vagrant/anaconda/lib/python2.7/site-packages/pandas/core/internals.pyc\u001b[0m in \u001b[0;36mget\u001b[1;34m(self, item, fastpath)\u001b[0m\n\u001b[0;32m   2563\u001b[0m \u001b[1;33m\u001b[0m\u001b[0m\n\u001b[0;32m   2564\u001b[0m             \u001b[1;32mif\u001b[0m \u001b[1;32mnot\u001b[0m \u001b[0misnull\u001b[0m\u001b[1;33m(\u001b[0m\u001b[0mitem\u001b[0m\u001b[1;33m)\u001b[0m\u001b[1;33m:\u001b[0m\u001b[1;33m\u001b[0m\u001b[0m\n\u001b[1;32m-> 2565\u001b[1;33m                 \u001b[0mloc\u001b[0m \u001b[1;33m=\u001b[0m \u001b[0mself\u001b[0m\u001b[1;33m.\u001b[0m\u001b[0mitems\u001b[0m\u001b[1;33m.\u001b[0m\u001b[0mget_loc\u001b[0m\u001b[1;33m(\u001b[0m\u001b[0mitem\u001b[0m\u001b[1;33m)\u001b[0m\u001b[1;33m\u001b[0m\u001b[0m\n\u001b[0m\u001b[0;32m   2566\u001b[0m             \u001b[1;32melse\u001b[0m\u001b[1;33m:\u001b[0m\u001b[1;33m\u001b[0m\u001b[0m\n\u001b[0;32m   2567\u001b[0m                 \u001b[0mindexer\u001b[0m \u001b[1;33m=\u001b[0m \u001b[0mnp\u001b[0m\u001b[1;33m.\u001b[0m\u001b[0marange\u001b[0m\u001b[1;33m(\u001b[0m\u001b[0mlen\u001b[0m\u001b[1;33m(\u001b[0m\u001b[0mself\u001b[0m\u001b[1;33m.\u001b[0m\u001b[0mitems\u001b[0m\u001b[1;33m)\u001b[0m\u001b[1;33m)\u001b[0m\u001b[1;33m[\u001b[0m\u001b[0misnull\u001b[0m\u001b[1;33m(\u001b[0m\u001b[0mself\u001b[0m\u001b[1;33m.\u001b[0m\u001b[0mitems\u001b[0m\u001b[1;33m)\u001b[0m\u001b[1;33m]\u001b[0m\u001b[1;33m\u001b[0m\u001b[0m\n",
        "\u001b[1;32m/home/vagrant/anaconda/lib/python2.7/site-packages/pandas/core/index.pyc\u001b[0m in \u001b[0;36mget_loc\u001b[1;34m(self, key)\u001b[0m\n\u001b[0;32m   1179\u001b[0m         \u001b[0mloc\u001b[0m \u001b[1;33m:\u001b[0m \u001b[0mint\u001b[0m \u001b[1;32mif\u001b[0m \u001b[0munique\u001b[0m \u001b[0mindex\u001b[0m\u001b[1;33m,\u001b[0m \u001b[0mpossibly\u001b[0m \u001b[0mslice\u001b[0m \u001b[1;32mor\u001b[0m \u001b[0mmask\u001b[0m \u001b[1;32mif\u001b[0m \u001b[1;32mnot\u001b[0m\u001b[1;33m\u001b[0m\u001b[0m\n\u001b[0;32m   1180\u001b[0m         \"\"\"\n\u001b[1;32m-> 1181\u001b[1;33m         \u001b[1;32mreturn\u001b[0m \u001b[0mself\u001b[0m\u001b[1;33m.\u001b[0m\u001b[0m_engine\u001b[0m\u001b[1;33m.\u001b[0m\u001b[0mget_loc\u001b[0m\u001b[1;33m(\u001b[0m\u001b[0m_values_from_object\u001b[0m\u001b[1;33m(\u001b[0m\u001b[0mkey\u001b[0m\u001b[1;33m)\u001b[0m\u001b[1;33m)\u001b[0m\u001b[1;33m\u001b[0m\u001b[0m\n\u001b[0m\u001b[0;32m   1182\u001b[0m \u001b[1;33m\u001b[0m\u001b[0m\n\u001b[0;32m   1183\u001b[0m     \u001b[1;32mdef\u001b[0m \u001b[0mget_value\u001b[0m\u001b[1;33m(\u001b[0m\u001b[0mself\u001b[0m\u001b[1;33m,\u001b[0m \u001b[0mseries\u001b[0m\u001b[1;33m,\u001b[0m \u001b[0mkey\u001b[0m\u001b[1;33m)\u001b[0m\u001b[1;33m:\u001b[0m\u001b[1;33m\u001b[0m\u001b[0m\n",
        "\u001b[1;32m/home/vagrant/anaconda/lib/python2.7/site-packages/pandas/index.so\u001b[0m in \u001b[0;36mpandas.index.IndexEngine.get_loc (pandas/index.c:3354)\u001b[1;34m()\u001b[0m\n",
        "\u001b[1;32m/home/vagrant/anaconda/lib/python2.7/site-packages/pandas/index.so\u001b[0m in \u001b[0;36mpandas.index.IndexEngine.get_loc (pandas/index.c:3289)\u001b[1;34m()\u001b[0m\n",
        "\u001b[1;31mKeyError\u001b[0m: 'Call Final Class qualifier'"
       ]
      }
     ],
     "prompt_number": 54
    },
    {
     "cell_type": "code",
     "collapsed": false,
     "input": [
      "#Now in a separate cell we compute the different groups using the filtered copy we made.\n",
      "if True:\n",
      "    #dm_sector = df3[['ECP', 'Cell','Sector']].groupby([df3['ECP'], df3['Cell'], df3['Sector']]).agg(len)\n",
      "    # dm_cell is still using the method that leaves a multi-level index\n",
      "    dm_cell = df3[['ECP', 'Cell']].groupby([df3['ECP'], df3['Cell']]).agg(len)\n",
      "    dm_cell.sort(columns='Cell',ascending =False,inplace = True)\n",
      "    #Here we use a method to unravel the multi-level index from the start.\n",
      "    dm = df3[['ECP', 'Cell','Sector','Carrier']].groupby(['ECP', 'Cell','Sector']).agg(len).reset_index()\n",
      "    dm.sort(columns = 'Carrier', ascending = False, inplace =True)\n",
      "    \n",
      "       \n",
      "    print '\\nWhat is dm now?   ', type(dm)\n",
      "    print '\\n dm ', dm.head()\n",
      "    print '\\nNumber of items in dm_sector ', len(dm)\n",
      "    print '\\nNeed to Keep the dm_cell structure to agg by cell', dm_cell.info()\n",
      "    print '\\n dm_cell ', dm_cell.head(), '\\nNumber of items in dm_cell ', len(dm_cell)\n",
      "     \n",
      "else:\n",
      "    dm = df2[['ECP', 'Cell','Call Final Class qualifier']].groupby([df2['ECP'], df2['Cell'],\\\n",
      "                                df2['Call Final Class qualifier']]).agg(len)\n",
      "    dm.sort(columns='Cell',ascending = False, inplace =True)\n",
      "    print 'df2 info this is unfiltered ', df2.info()\n",
      "    print '\\n\\nNow the grouped series dm ',dm.info()\n",
      " \n",
      "\n",
      "\n",
      "\n",
      "\n"
     ],
     "language": "python",
     "metadata": {},
     "outputs": [
      {
       "output_type": "stream",
       "stream": "stdout",
       "text": [
        "\n",
        "What is dm now?    <class 'pandas.core.frame.DataFrame'>\n",
        "\n",
        " dm       ECP Cell Sector  Carrier\n",
        "523   10  589      3     8281\n",
        "4570   7  595      1     3159\n",
        "4061   7  150      2     2690\n",
        "4060   7  150      1     2626\n",
        "92    10  156      3     2575\n",
        "\n",
        "Number of items in dm_sector  4963\n",
        "\n",
        "Need to Keep the dm_cell structure to agg by cell<class 'pandas.core.frame.DataFrame'>\n",
        "MultiIndex: 1729 entries, (10, 589) to (10, 805)\n",
        "Data columns (total 2 columns):\n",
        "ECP     1729 non-null int64\n",
        "Cell    1729 non-null int64\n",
        "dtypes: int64(2) None\n",
        "\n",
        " dm_cell              ECP   Cell\n",
        "ECP Cell              \n",
        "10  589   10577  10577\n",
        "7   150    7280   7280\n",
        "    531    5258   5258\n",
        "    595    4258   4258\n",
        "10  191    3012   3012 \n",
        "Number of items in dm_cell  1729\n"
       ]
      }
     ],
     "prompt_number": 32
    },
    {
     "cell_type": "code",
     "collapsed": false,
     "input": [
      "# Computer the mean of the full monty (df2)\n",
      "#df2.describe()\n",
      " \n",
      "mean_count = dm_cell.values.mean()\n",
      "std_count = dm_cell.values.std()\n",
      "max_count = dm_cell.values.max()\n",
      "min_count = dm_cell.values.min()\n",
      "top_count = mean_count + std_count\n",
      " \n",
      "#Dropped Call Failure reason\n",
      "#Call Final Class qualifier\n",
      "\n",
      "print 'Filtered?  \\n',dm_cell.head(6),\\\n",
      "'\\nNumber of Cells ', len(dm_cell),  'Number of cells in top ', len(dm_cell.loc[dm_cell['Cell']>top_count])\n",
      "# Find the cutoff statistics\n",
      "print '\\nMean =', mean_count, 'Standard deviation ',std_count, 'Mean + 1 sigma = ', mean_count+std_count\n",
      " "
     ],
     "language": "python",
     "metadata": {},
     "outputs": [
      {
       "output_type": "stream",
       "stream": "stdout",
       "text": [
        "Filtered?  \n",
        "            ECP   Cell\n",
        "ECP Cell              \n",
        "10  589   10577  10577\n",
        "7   150    7280   7280\n",
        "    531    5258   5258\n",
        "    595    4258   4258\n",
        "10  191    3012   3012\n",
        "    156    3007   3007 \n",
        "Number of Cells  1729 Number of cells in top  127\n",
        "\n",
        "Mean = 298.123192597 Standard deviation  495.200887992 Mean + 1 sigma =  793.324080589\n"
       ]
      }
     ],
     "prompt_number": 33
    },
    {
     "cell_type": "code",
     "collapsed": false,
     "input": [
      "#Create the statistics on a data set sorted also by sector.\n",
      "mean_count = dm['Carrier'].mean()\n",
      "std_count = dm['Carrier'].std()\n",
      "max_count = dm['Carrier'].max()\n",
      "min_count = dm['Carrier'].min()\n",
      "top_count_sector = mean_count + std_count\n",
      "sector_count = len(dm)\n",
      "bad_sectors = len(dm.loc[dm['Carrier']>top_count_sector])\n",
      "#Dropped Call Failure reason\n",
      "#Call Final Class qualifier\n",
      "\n",
      "print 'dm_sector Total Sector Count? ',len(dm),\\\n",
      "  \n",
      "print '\\nNumber of Sectors in top ', len(dm.loc[dm['Carrier']>top_count_sector])\n",
      "# Find the cutoff statistics\n",
      "print '\\nMean =', mean_count, 'Standard deviation ',std_count, 'Mean + 1 sigma = ', mean_count+std_count\n",
      "print '\\nMax = ', max_count, '\\nMin', min_count\n"
     ],
     "language": "python",
     "metadata": {},
     "outputs": [
      {
       "output_type": "stream",
       "stream": "stdout",
       "text": [
        "dm_sector Total Sector Count?  4963 \n",
        "Number of Sectors in top  305\n",
        "\n",
        "Mean = 103.85956075 Standard deviation  224.194694421 Mean + 1 sigma =  328.05425517\n",
        "\n",
        "Max =  8281 \n",
        "Min 1\n"
       ]
      }
     ],
     "prompt_number": 77
    },
    {
     "cell_type": "code",
     "collapsed": false,
     "input": [
      "# We have to use dm (sector) with some other type of filter\n",
      "#Here we print out the top list of cells\n",
      "#This needs to be revised based on the new unpacked structure\n",
      "#dm3 = dm_cell.loc[dm_cell['Cell']>top_count]\n",
      "dm3 = dm.loc[dm['Carrier']>top_count_sector]\n",
      "#dm3 = dm2[['Cell','Sector', 'Carrier']].groupby([dm2['Cell'], dm2['Sector'], dm2['Carrier']]).agg(len)\n",
      "dm3.sort(columns='Carrier',ascending = False)\n",
      " \n",
      " \n",
      "print type(dm3), '\\nNumber of items', len(dm3), dm3.columns\n",
      " \n",
      "if False:\n",
      "    dm3.to_csv('output/top_cdma_drop_list-fullmarket-wk2.txt')\n",
      "    print \"Succcessfully write out \", len(dm3), ' items to top_cdma_drop_list-fullmarket-wk2.txt'\n",
      "\n",
      "#Let's attempt some clean up\n",
      "del dm3"
     ],
     "language": "python",
     "metadata": {},
     "outputs": [
      {
       "output_type": "stream",
       "stream": "stdout",
       "text": [
        "<class 'pandas.core.frame.DataFrame'> \n",
        "Number of items 305 Index([u'ECP', u'Cell', u'Sector', u'Carrier'], dtype='object')\n"
       ]
      }
     ],
     "prompt_number": 55
    },
    {
     "cell_type": "code",
     "collapsed": false,
     "input": [
      "# Now let's try to manipulate the impact of the drops by reducing the top offenders number of drops = mean.\n",
      "# Recall that dm - is the sector drop count.  dm_cell is the cell drop count\n",
      "# dm3 is a free variable.\n",
      "# from above we already know how select only the rows above our standard deviation. let's try to set them all to 13.\n",
      "dm3 = dm.copy()\n",
      "dm4 = dm.copy()\n",
      "# This will set the number of drops to the mean for the sector\n",
      "dm3 = dm.loc[dm['Carrier'] > top_count_sector]\n",
      "dm3.Carrier = int(top_count_sector)\n",
      "dm4 = dm.loc[dm['Carrier']<=top_count_sector]\n",
      "\n",
      "print 'Total number of sectors = ',sector_count, '\\n Above Normal ', bad_sectors\n",
      "print 'Now the non top sectors ',  len(dm4)\n",
      "print '\\nJust Checking ', len(dm4) + bad_sectors\n",
      "\n",
      "#print dm3.head(), '\\n\\nOk now original \\n',dm.head(), '\\nTop Count ', top_count_sector\n",
      "# Now let's put them back together and recompute the difference in number of drops!!\n",
      "dm2 = concat([dm3,dm4])\n",
      "print dm2.info(), '\\n', dm.describe(),  '\\n Now the reimagined one \\n',dm2.describe()\n",
      "del dm3\n",
      "del dm4\n",
      " "
     ],
     "language": "python",
     "metadata": {},
     "outputs": [
      {
       "output_type": "stream",
       "stream": "stdout",
       "text": [
        "Total number of sectors =  4963 \n",
        " Above Normal  305\n",
        "Now the non top sectors  4658\n",
        "\n",
        "Just Checking  4963\n",
        "<class 'pandas.core.frame.DataFrame'>\n",
        "Int64Index: 4963 entries, 523 to 3425\n",
        "Data columns (total 4 columns):\n",
        "ECP        4963 non-null object\n",
        "Cell       4963 non-null object\n",
        "Sector     4963 non-null object\n",
        "Carrier    4963 non-null int64\n",
        "dtypes: int64(1), object(3)None \n",
        "           Carrier\n",
        "count  4963.000000\n",
        "mean    103.859561\n",
        "std     224.194694\n",
        "min       1.000000\n",
        "25%      16.000000\n",
        "50%      45.000000\n",
        "75%     109.000000\n",
        "max    8281.000000 \n",
        " Now the reimagined one \n",
        "           Carrier\n",
        "count  4963.000000\n",
        "mean     82.074350\n",
        "std      92.416645\n",
        "min       1.000000\n",
        "25%      16.000000\n",
        "50%      45.000000\n",
        "75%     109.000000\n",
        "max     328.000000\n"
       ]
      }
     ],
     "prompt_number": 193
    },
    {
     "cell_type": "code",
     "collapsed": false,
     "input": [
      "# Let's see how to manipulate the dF now\n",
      "print dm2.info()"
     ],
     "language": "python",
     "metadata": {},
     "outputs": [
      {
       "output_type": "stream",
       "stream": "stdout",
       "text": [
        "<class 'pandas.core.frame.DataFrame'>\n",
        "Int64Index: 4963 entries, 523 to 3425\n",
        "Data columns (total 4 columns):\n",
        "ECP        4963 non-null object\n",
        "Cell       4963 non-null object\n",
        "Sector     4963 non-null object\n",
        "Carrier    4963 non-null int64\n",
        "dtypes: int64(1), object(3)None\n"
       ]
      }
     ],
     "prompt_number": 92
    },
    {
     "cell_type": "code",
     "collapsed": false,
     "input": [
      " \n",
      "# Original Method attempt to extract worst list\n",
      "#dm2 = df2.loc[(df2['Cell'].index.isin(myDict))]\n",
      "#############################\n",
      "###  Ok NOW dm is a little different than dm_cell.  \n",
      "if True:\n",
      "    mylist = dm.iloc[:,1]\n",
      "    #dm2 = df2.loc[(df2.index.isin(mylist))]\n",
      "    #dm2 = \n",
      "    \n",
      "    ####Let's test it  #######\n",
      "    print 'My list = ', mylist[:8], type(mylist), '\\n','length of index ', len(mylist),'\\n\\n'\n",
      "    #print len(dm2), 'Info ', dm2.info()\n",
      "##################################\n",
      "# Write list (dm2) to csf\n",
      "if False:\n",
      "        dm2.to_csv('output/top_cdma_calldrop.out')\n",
      "        print '\\nInformation about the array we are writing as Top offenders \\n',dm2.info()"
     ],
     "language": "python",
     "metadata": {},
     "outputs": [
      {
       "output_type": "stream",
       "stream": "stdout",
       "text": [
        "My list =  523     589\n",
        "4570    595\n",
        "4061    150\n",
        "4060    150\n",
        "92      156\n",
        "4409    531\n",
        "3351    719\n",
        "4407    531\n",
        "Name: Cell, dtype: object <class 'pandas.core.series.Series'> \n",
        "length of index  4963 \n",
        "\n",
        "\n"
       ]
      }
     ],
     "prompt_number": 36
    },
    {
     "cell_type": "code",
     "collapsed": false,
     "input": [
      "fig =plt.figure()\n",
      "plt.clf()\n",
      "bin_tick =np.arange(top_count_sector,max_count,50, dtype=int)\n",
      "\n",
      "#dm2.hist()\n",
      "#dm2.plot(x=['ECP','Cell'], y ='Carrier',kind='line')\n",
      "#dm.plot(x=['ECP','Cell'], y='Carrier' )\n",
      "#plt.subplots(2,2)\n",
      "ax1 = fig.add_subplot(2,2,1)\n",
      " \n",
      "_ = ax1.plot(dm2['Carrier'].values, drawstyle='steps-post', label ='steps-post')\n",
      "ax2 = fig.add_subplot(2,2,3)\n",
      "\n",
      "bin_tick = np.arange(min_count,max_count,50, dtype=int)\n",
      "\n",
      "_ = ax2.hist(dm['Carrier'],bins=bin_tick)\n",
      "ax3 = fig.add_subplot(2,2,4)\n",
      "norm_cdf(68, std_count, min_count, max_count)\n",
      "\n",
      "    "
     ],
     "language": "python",
     "metadata": {},
     "outputs": [
      {
       "metadata": {},
       "output_type": "display_data",
       "png": "[encoded data removed]",
       "text": [
        "<matplotlib.figure.Figure at 0x7f6957d078d0>"
       ]
      }
     ],
     "prompt_number": 192
    },
    {
     "cell_type": "code",
     "collapsed": false,
     "input": [
      "def norm_cdf(mean=0.0, std=1.0, min=0, max=500):\n",
      "    import scipy as sp\n",
      "    from scipy import stats\n",
      "    # 50 numbers between -3\u03c3 and 3\u03c3\n",
      "    #x = sp.linspace(-3*std, 3*std, 50)\n",
      "    x = sp.linspace(min, max, 50)\n",
      "    # CDF at these values\n",
      "    y = stats.norm.cdf(x, loc=mean, scale=std)\n",
      "\n",
      "    plt.plot(x,y, color=\"black\")\n",
      "    plt.xlabel(\"Variate\")\n",
      "    plt.ylabel(\"Cumulative Probability\")\n",
      "    plt.title(\"CDF for Gaussian of mean = {0} & std. deviation = {1}\".format(\n",
      "               mean, std))\n",
      "    plt.draw()"
     ],
     "language": "python",
     "metadata": {},
     "outputs": [],
     "prompt_number": 189
    },
    {
     "cell_type": "code",
     "collapsed": false,
     "input": [
      "pd.set_option('display.width', 100,'display.column_space', 25)\n",
      "print  dm2.describe(), dm2.shape, 1776+1299*2\n",
      "cap =[]\n",
      "cap = dm2.describe()\n",
      "if False:\n",
      "    cap.to_csv('output/top_describe.txt')\n",
      "%pylab --no-import-all inline\n",
      " "
     ],
     "language": "python",
     "metadata": {},
     "outputs": [
      {
       "output_type": "stream",
       "stream": "stdout",
       "text": [
        "           Carrier\n",
        "count  4963.000000\n",
        "mean     68.247028\n",
        "std      68.257017\n",
        "min       1.000000\n",
        "25%      16.000000\n",
        "50%      45.000000\n",
        "75%     103.000000\n",
        "max     328.000000 (4963, 4) 4374\n",
        "Populating the interactive namespace from numpy and matplotlib\n"
       ]
      }
     ],
     "prompt_number": 149
    },
    {
     "cell_type": "code",
     "collapsed": false,
     "input": [
      "# Unless we got sloppy, dm2 should still be only the Top offenders. so we want to also group by sector and carrier\n",
      "dm3 = dm2[['Cell','Sector', 'Carrier']].groupby([dm2['Cell'], dm2['Sector'], dm2['Carrier']]).agg(len)\n",
      "print type(dm3), '\\nNumber of Sector', len(dm3)\n",
      "if True:\n",
      "    dm3.to_csv('output/top_cdma_drop_list-wk2.txt')\n",
      "\n",
      "dm3.sort(columns='Cell',ascending = False)"
     ],
     "language": "python",
     "metadata": {},
     "outputs": []
    },
    {
     "cell_type": "code",
     "collapsed": false,
     "input": [
      " \n",
      "# Create a count to look for the cells with the most drops\n",
      "#dm3 = dm2[['Cell','Sector','Ending Band Class']].groupby([dm2['Cell'], dm2['Sector'],dm2['Ending Band Class']]).agg(len)\n",
      "dm3 = dm2[['Cell','Sector','Mobile serial number']].groupby([dm2['Cell'], dm2['Sector'],dm2['Mobile serial number']]).agg(len)\n",
      "print type(dm3), '\\nNumber of Sector', len(dm3)\n",
      "\n",
      "#dm3.to_csv('output/top_cdma_drop_list.txt')\n",
      "\n",
      "dm3.sort(columns='Cell',ascending = False)\n",
      "dm3"
     ],
     "language": "python",
     "metadata": {},
     "outputs": []
    },
    {
     "cell_type": "code",
     "collapsed": false,
     "input": [
      " \n",
      "# Create a count to look for the cells with the most drops\n",
      "dm3 = dm2[['Cell','Sector','Ending Band Class']].groupby([dm2['Cell'], dm2['Sector'],dm2['Ending Band Class']]).agg(len)\n",
      " \n",
      "print type(dm3), '\\nEnding Band Class', len(dm3)\n",
      "dm3.to_csv('output/top_cdma_drop_BC.txt')\n",
      "dm3.sort(columns='Cell',ascending = False)\n",
      "dm3"
     ],
     "language": "python",
     "metadata": {},
     "outputs": []
    },
    {
     "cell_type": "code",
     "collapsed": false,
     "input": [
      "dm3 = dm2[['Cell','Sector', 'Carrier','Average RL RSSI rise (dB)']].groupby([dm2['Cell'] \\\n",
      "                        , dm2['Sector'], dm2['Carrier'], dm2['Average RL RSSI rise (dB)']]).agg(len)\n",
      "print type(dm3), '\\nNumber of Sector', len(dm3)\n",
      "if True:\n",
      "    dm3.to_csv('output/top_cdma_drop_RSSI.txt')\n",
      "dm3.sort(columns='Cell',ascending = False)"
     ],
     "language": "python",
     "metadata": {},
     "outputs": []
    },
    {
     "cell_type": "code",
     "collapsed": false,
     "input": [
      "dm3.describe"
     ],
     "language": "python",
     "metadata": {},
     "outputs": []
    },
    {
     "cell_type": "code",
     "collapsed": false,
     "input": [
      "#Now let's look at S102 drops\n",
      "dm3 = dm2[['Cell','Sector', 'Carrier','S102 Call type']].groupby([dm2['Cell'] \\\n",
      "                        , dm2['Sector'], dm2['Carrier'], dm2['S102 Call type']]).agg(len)\n",
      "print type(dm3), '\\nNumber of Sector', len(dm3)\n",
      "if True:\n",
      "    dm3.to_csv('output/top_cdma_drop_S102.txt')\n",
      "dm3.sort(columns='Cell',ascending = True)"
     ],
     "language": "python",
     "metadata": {},
     "outputs": []
    },
    {
     "cell_type": "code",
     "collapsed": false,
     "input": [
      "#Now let's look at FL Power drops\n",
      "dm3 = dm2[['Cell','Sector', 'Carrier','Average FL Power (Watts)']].groupby([dm2['Cell'] \\\n",
      "                        , dm2['Sector'], dm2['Carrier'], dm2['Average FL Power (Watts)']]).agg(len)\n",
      "print type(dm3), '\\nNumber of Sector', len(dm3)\n",
      "if True:\n",
      "    dm3.to_csv('output/top_cdma_drop_flpower.txt')\n",
      "dm3.sort(columns='Cell',ascending = True)"
     ],
     "language": "python",
     "metadata": {},
     "outputs": []
    },
    {
     "cell_type": "code",
     "collapsed": false,
     "input": [
      "# First slice only the firt column\n",
      " # set the datatype of columns\n",
      "dflow =df_out[ (df_out[2] >=1)&(df_out[2] <=23)].dropna()\n",
      "#dflow = df_out.dropna()\n",
      "#print dflow.count()\n",
      "avg_throughput = dflow[5].mean()\n",
      "\n",
      "\n",
      "dflow = dflow[dflow[0].str.endswith('1')]\n",
      "favgtput =dflow[(dflow[5]<=2)].mean()\n",
      "dflow = dflow.sort_index(by=5, ascending=True)\n",
      "print dflow.head(1), '\\navg_throughput', avg_throughput, 'only certain cells =',favgtput\n",
      "print 'Number of records ', dflow.count()"
     ],
     "language": "python",
     "metadata": {},
     "outputs": []
    }
   ],
   "metadata": {}
  }
 ]
}